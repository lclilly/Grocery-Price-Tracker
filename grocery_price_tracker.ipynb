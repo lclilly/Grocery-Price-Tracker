{
 "cells": [
  {
   "cell_type": "code",
   "execution_count": 4,
   "id": "653ccda4-054c-4244-a892-4334fb567cde",
   "metadata": {},
   "outputs": [
    {
     "name": "stdout",
     "output_type": "stream",
     "text": [
      "🛒 Welcome to Grocery Price Tracker!\n",
      "\n"
     ]
    },
    {
     "name": "stdin",
     "output_type": "stream",
     "text": [
      "Enter an item name (or type 'done' to finish):  Banana\n",
      "Enter the price of Banana:  50\n",
      "Enter an item name (or type 'done' to finish):  Cabbage\n",
      "Enter the price of Cabbage:  50\n",
      "Enter an item name (or type 'done' to finish):  Managu\n",
      "Enter the price of Managu:  80\n",
      "Enter an item name (or type 'done' to finish):  done\n"
     ]
    },
    {
     "name": "stdout",
     "output_type": "stream",
     "text": [
      "\n",
      "🧾 Your Grocery Receipt:\n",
      "1. Banana - KES 50\n",
      "2. Cabbage - KES 50\n",
      "3. Managu - KES 80\n",
      "\n",
      "Total: KES 180\n",
      "Thank you for using Grocery Price Tracker! 🙌\n"
     ]
    }
   ],
   "source": [
    "print(\"🛒 Welcome to Grocery Price Tracker!\\n\")\n",
    "\n",
    "item_names = []\n",
    "item_prices = []\n",
    "\n",
    "# Set a price threshold (e.g., 500 KES)\n",
    "price_limit = 500\n",
    "\n",
    "while True:\n",
    "    item = input(\"Enter an item name (or type 'done' to finish): \").strip()\n",
    "    if item.lower() == \"done\":\n",
    "        break\n",
    "\n",
    "    price_input = input(f\"Enter the price of {item}: \")\n",
    "    if not price_input.isdigit():\n",
    "        print(\"Please enter a valid number.\\n\")\n",
    "        continue\n",
    "\n",
    "    price = int(price_input)\n",
    "\n",
    "    item_names.append(item)\n",
    "    item_prices.append(price)  # ✅ Corrected this line\n",
    "\n",
    "print(\"\\n🧾 Your Grocery Receipt:\")\n",
    "total = 0\n",
    "\n",
    "for index, (name, price) in enumerate(zip(item_names, item_prices), start=1):\n",
    "    over_budget = \" 🔴 Over budget!\" if price > price_limit else \"\"\n",
    "    print(f\"{index}. {name} - KES {price}{over_budget}\")\n",
    "    total += price\n",
    "\n",
    "print(f\"\\nTotal: KES {total}\")\n",
    "print(\"Thank you for using Grocery Price Tracker! 🙌\")"
   ]
  },
  {
   "cell_type": "code",
   "execution_count": null,
   "id": "50f9fa59-e0f2-4f00-8645-a200236d2061",
   "metadata": {},
   "outputs": [],
   "source": []
  }
 ],
 "metadata": {
  "kernelspec": {
   "display_name": "Python [conda env:py13]",
   "language": "python",
   "name": "conda-env-py13-py"
  },
  "language_info": {
   "codemirror_mode": {
    "name": "ipython",
    "version": 3
   },
   "file_extension": ".py",
   "mimetype": "text/x-python",
   "name": "python",
   "nbconvert_exporter": "python",
   "pygments_lexer": "ipython3",
   "version": "3.13.5"
  }
 },
 "nbformat": 4,
 "nbformat_minor": 5
}
